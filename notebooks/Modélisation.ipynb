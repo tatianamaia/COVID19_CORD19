{
 "cells": [
  {
   "cell_type": "code",
   "execution_count": 11,
   "metadata": {},
   "outputs": [],
   "source": [
    "import datetime\n",
    "\n",
    "import yaml\n",
    "import os\n",
    "\n",
    "import numpy as np\n",
    "import pandas as pd\n",
    "import matplotlib.pyplot as plt\n",
    "\n",
    "%matplotlib inline"
   ]
  },
  {
   "cell_type": "code",
   "execution_count": 2,
   "metadata": {},
   "outputs": [],
   "source": [
    "ENV_FILE='../env.yaml'\n",
    "with open(ENV_FILE) as f:\n",
    "    params = yaml.load(f, Loader=yaml.FullLoader)\n",
    "\n",
    "#Initialisation des chemins vers les fichiers\n",
    "ROOT_DIR = os.path.dirname(os.path.abspath(ENV_FILE))\n",
    "DATA_FILE= os.path.join(ROOT_DIR, params['directories']['processed'], params['files']['all_data'])\n",
    "\n",
    "#Lecture du fihcier de données\n",
    "epidemic_df = (pd.read_csv(DATA_FILE, parse_dates=['Last Update'])\n",
    "               .assign(day=lambda _df:_df['Last Update'].dt.date)\n",
    "               .drop_duplicates(subset=['Country/Region', 'Province/State', 'day'])\n",
    "               [lambda df: df['day'] <= datetime.date(2020,3,12)]\n",
    "              )"
   ]
  },
  {
   "cell_type": "code",
   "execution_count": 3,
   "metadata": {},
   "outputs": [
    {
     "data": {
      "text/html": [
       "<div>\n",
       "<style scoped>\n",
       "    .dataframe tbody tr th:only-of-type {\n",
       "        vertical-align: middle;\n",
       "    }\n",
       "\n",
       "    .dataframe tbody tr th {\n",
       "        vertical-align: top;\n",
       "    }\n",
       "\n",
       "    .dataframe thead th {\n",
       "        text-align: right;\n",
       "    }\n",
       "</style>\n",
       "<table border=\"1\" class=\"dataframe\">\n",
       "  <thead>\n",
       "    <tr style=\"text-align: right;\">\n",
       "      <th></th>\n",
       "      <th>Province/State</th>\n",
       "      <th>Country/Region</th>\n",
       "      <th>Last Update</th>\n",
       "      <th>Confirmed</th>\n",
       "      <th>Deaths</th>\n",
       "      <th>Recovered</th>\n",
       "      <th>Latitude</th>\n",
       "      <th>Longitude</th>\n",
       "      <th>source</th>\n",
       "      <th>day</th>\n",
       "    </tr>\n",
       "  </thead>\n",
       "  <tbody>\n",
       "    <tr>\n",
       "      <th>0</th>\n",
       "      <td>Hubei</td>\n",
       "      <td>Mainland China</td>\n",
       "      <td>2020-02-26 14:13:10</td>\n",
       "      <td>65187.0</td>\n",
       "      <td>2615.0</td>\n",
       "      <td>20969.0</td>\n",
       "      <td>30.9756</td>\n",
       "      <td>112.2707</td>\n",
       "      <td>02-26-2020.csv</td>\n",
       "      <td>2020-02-26</td>\n",
       "    </tr>\n",
       "    <tr>\n",
       "      <th>1</th>\n",
       "      <td>Guangdong</td>\n",
       "      <td>Mainland China</td>\n",
       "      <td>2020-02-26 10:33:02</td>\n",
       "      <td>1347.0</td>\n",
       "      <td>7.0</td>\n",
       "      <td>851.0</td>\n",
       "      <td>23.3417</td>\n",
       "      <td>113.4244</td>\n",
       "      <td>02-26-2020.csv</td>\n",
       "      <td>2020-02-26</td>\n",
       "    </tr>\n",
       "    <tr>\n",
       "      <th>2</th>\n",
       "      <td>Henan</td>\n",
       "      <td>Mainland China</td>\n",
       "      <td>2020-02-26 10:33:02</td>\n",
       "      <td>1271.0</td>\n",
       "      <td>19.0</td>\n",
       "      <td>1033.0</td>\n",
       "      <td>33.8820</td>\n",
       "      <td>113.6140</td>\n",
       "      <td>02-26-2020.csv</td>\n",
       "      <td>2020-02-26</td>\n",
       "    </tr>\n",
       "    <tr>\n",
       "      <th>3</th>\n",
       "      <td>NaN</td>\n",
       "      <td>South Korea</td>\n",
       "      <td>2020-02-26 11:03:11</td>\n",
       "      <td>1261.0</td>\n",
       "      <td>12.0</td>\n",
       "      <td>22.0</td>\n",
       "      <td>36.0000</td>\n",
       "      <td>128.0000</td>\n",
       "      <td>02-26-2020.csv</td>\n",
       "      <td>2020-02-26</td>\n",
       "    </tr>\n",
       "    <tr>\n",
       "      <th>4</th>\n",
       "      <td>Zhejiang</td>\n",
       "      <td>Mainland China</td>\n",
       "      <td>2020-02-26 10:33:02</td>\n",
       "      <td>1205.0</td>\n",
       "      <td>1.0</td>\n",
       "      <td>867.0</td>\n",
       "      <td>29.1832</td>\n",
       "      <td>120.0934</td>\n",
       "      <td>02-26-2020.csv</td>\n",
       "      <td>2020-02-26</td>\n",
       "    </tr>\n",
       "  </tbody>\n",
       "</table>\n",
       "</div>"
      ],
      "text/plain": [
       "  Province/State  Country/Region         Last Update  Confirmed  Deaths  \\\n",
       "0          Hubei  Mainland China 2020-02-26 14:13:10    65187.0  2615.0   \n",
       "1      Guangdong  Mainland China 2020-02-26 10:33:02     1347.0     7.0   \n",
       "2          Henan  Mainland China 2020-02-26 10:33:02     1271.0    19.0   \n",
       "3            NaN     South Korea 2020-02-26 11:03:11     1261.0    12.0   \n",
       "4       Zhejiang  Mainland China 2020-02-26 10:33:02     1205.0     1.0   \n",
       "\n",
       "   Recovered  Latitude  Longitude          source         day  \n",
       "0    20969.0   30.9756   112.2707  02-26-2020.csv  2020-02-26  \n",
       "1      851.0   23.3417   113.4244  02-26-2020.csv  2020-02-26  \n",
       "2     1033.0   33.8820   113.6140  02-26-2020.csv  2020-02-26  \n",
       "3       22.0   36.0000   128.0000  02-26-2020.csv  2020-02-26  \n",
       "4      867.0   29.1832   120.0934  02-26-2020.csv  2020-02-26  "
      ]
     },
     "execution_count": 3,
     "metadata": {},
     "output_type": "execute_result"
    }
   ],
   "source": [
    "epidemic_df.head()"
   ]
  },
  {
   "cell_type": "code",
   "execution_count": 4,
   "metadata": {},
   "outputs": [
    {
     "data": {
      "text/html": [
       "<div>\n",
       "<style scoped>\n",
       "    .dataframe tbody tr th:only-of-type {\n",
       "        vertical-align: middle;\n",
       "    }\n",
       "\n",
       "    .dataframe tbody tr th {\n",
       "        vertical-align: top;\n",
       "    }\n",
       "\n",
       "    .dataframe thead th {\n",
       "        text-align: right;\n",
       "    }\n",
       "</style>\n",
       "<table border=\"1\" class=\"dataframe\">\n",
       "  <thead>\n",
       "    <tr style=\"text-align: right;\">\n",
       "      <th></th>\n",
       "      <th>Country/Region</th>\n",
       "      <th>day</th>\n",
       "      <th>Confirmed</th>\n",
       "      <th>Deaths</th>\n",
       "      <th>Recovered</th>\n",
       "    </tr>\n",
       "  </thead>\n",
       "  <tbody>\n",
       "    <tr>\n",
       "      <th>23</th>\n",
       "      <td>France</td>\n",
       "      <td>2020-03-07</td>\n",
       "      <td>949.0</td>\n",
       "      <td>11.0</td>\n",
       "      <td>12.0</td>\n",
       "    </tr>\n",
       "    <tr>\n",
       "      <th>24</th>\n",
       "      <td>France</td>\n",
       "      <td>2020-03-08</td>\n",
       "      <td>1126.0</td>\n",
       "      <td>19.0</td>\n",
       "      <td>12.0</td>\n",
       "    </tr>\n",
       "    <tr>\n",
       "      <th>25</th>\n",
       "      <td>France</td>\n",
       "      <td>2020-03-09</td>\n",
       "      <td>1209.0</td>\n",
       "      <td>19.0</td>\n",
       "      <td>12.0</td>\n",
       "    </tr>\n",
       "    <tr>\n",
       "      <th>26</th>\n",
       "      <td>France</td>\n",
       "      <td>2020-03-10</td>\n",
       "      <td>1784.0</td>\n",
       "      <td>33.0</td>\n",
       "      <td>12.0</td>\n",
       "    </tr>\n",
       "    <tr>\n",
       "      <th>27</th>\n",
       "      <td>France</td>\n",
       "      <td>2020-03-11</td>\n",
       "      <td>2287.0</td>\n",
       "      <td>48.0</td>\n",
       "      <td>12.0</td>\n",
       "    </tr>\n",
       "  </tbody>\n",
       "</table>\n",
       "</div>"
      ],
      "text/plain": [
       "   Country/Region         day  Confirmed  Deaths  Recovered\n",
       "23         France  2020-03-07      949.0    11.0       12.0\n",
       "24         France  2020-03-08     1126.0    19.0       12.0\n",
       "25         France  2020-03-09     1209.0    19.0       12.0\n",
       "26         France  2020-03-10     1784.0    33.0       12.0\n",
       "27         France  2020-03-11     2287.0    48.0       12.0"
      ]
     },
     "execution_count": 4,
     "metadata": {},
     "output_type": "execute_result"
    }
   ],
   "source": [
    "france_df=(epidemic_df[epidemic_df['Country/Region']=='France']\n",
    "           .groupby(['Country/Region', 'day'])\n",
    "           .agg({'Confirmed': 'sum', 'Deaths':'sum','Recovered':'sum'})\n",
    "           .reset_index()\n",
    "          )\n",
    "france_df.tail()\n"
   ]
  },
  {
   "cell_type": "code",
   "execution_count": 5,
   "metadata": {
    "scrolled": true
   },
   "outputs": [
    {
     "data": {
      "text/plain": [
       "0       NaN\n",
       "1       1.0\n",
       "2       0.0\n",
       "3       0.0\n",
       "4       1.0\n",
       "5       1.0\n",
       "6       0.0\n",
       "7       0.0\n",
       "8       1.0\n",
       "9       5.0\n",
       "10      0.0\n",
       "11      1.0\n",
       "12      2.0\n",
       "13      4.0\n",
       "14     20.0\n",
       "15     19.0\n",
       "16     43.0\n",
       "17     30.0\n",
       "18     61.0\n",
       "19     13.0\n",
       "20     81.0\n",
       "21     92.0\n",
       "22    276.0\n",
       "23    296.0\n",
       "24    177.0\n",
       "25     83.0\n",
       "26    575.0\n",
       "27    503.0\n",
       "Name: Confirmed, dtype: float64"
      ]
     },
     "execution_count": 5,
     "metadata": {},
     "output_type": "execute_result"
    }
   ],
   "source": [
    "france_df['Confirmed'].diff()"
   ]
  },
  {
   "cell_type": "code",
   "execution_count": 6,
   "metadata": {},
   "outputs": [],
   "source": [
    "def get_country(self, country):\n",
    "    return (epidemic_df[epidemic_df['Country/Region']==country]\n",
    "           .groupby(['Country/Region', 'day'])\n",
    "           .agg({'Confirmed': 'sum', 'Deaths':'sum','Recovered':'sum'})\n",
    "           .reset_index()\n",
    "           )\n",
    "#Monkey Patch pd.Dataframe\n",
    "pd.DataFrame.get_country = get_country           "
   ]
  },
  {
   "cell_type": "code",
   "execution_count": 7,
   "metadata": {},
   "outputs": [
    {
     "data": {
      "text/html": [
       "<div>\n",
       "<style scoped>\n",
       "    .dataframe tbody tr th:only-of-type {\n",
       "        vertical-align: middle;\n",
       "    }\n",
       "\n",
       "    .dataframe tbody tr th {\n",
       "        vertical-align: top;\n",
       "    }\n",
       "\n",
       "    .dataframe thead th {\n",
       "        text-align: right;\n",
       "    }\n",
       "</style>\n",
       "<table border=\"1\" class=\"dataframe\">\n",
       "  <thead>\n",
       "    <tr style=\"text-align: right;\">\n",
       "      <th></th>\n",
       "      <th>Country/Region</th>\n",
       "      <th>day</th>\n",
       "      <th>Confirmed</th>\n",
       "      <th>Deaths</th>\n",
       "      <th>Recovered</th>\n",
       "    </tr>\n",
       "  </thead>\n",
       "  <tbody>\n",
       "    <tr>\n",
       "      <th>0</th>\n",
       "      <td>South Korea</td>\n",
       "      <td>2020-01-22</td>\n",
       "      <td>1.0</td>\n",
       "      <td>0.0</td>\n",
       "      <td>0.0</td>\n",
       "    </tr>\n",
       "    <tr>\n",
       "      <th>1</th>\n",
       "      <td>South Korea</td>\n",
       "      <td>2020-01-23</td>\n",
       "      <td>1.0</td>\n",
       "      <td>0.0</td>\n",
       "      <td>0.0</td>\n",
       "    </tr>\n",
       "    <tr>\n",
       "      <th>2</th>\n",
       "      <td>South Korea</td>\n",
       "      <td>2020-01-24</td>\n",
       "      <td>2.0</td>\n",
       "      <td>0.0</td>\n",
       "      <td>0.0</td>\n",
       "    </tr>\n",
       "    <tr>\n",
       "      <th>3</th>\n",
       "      <td>South Korea</td>\n",
       "      <td>2020-01-25</td>\n",
       "      <td>2.0</td>\n",
       "      <td>0.0</td>\n",
       "      <td>0.0</td>\n",
       "    </tr>\n",
       "    <tr>\n",
       "      <th>4</th>\n",
       "      <td>South Korea</td>\n",
       "      <td>2020-01-26</td>\n",
       "      <td>3.0</td>\n",
       "      <td>0.0</td>\n",
       "      <td>0.0</td>\n",
       "    </tr>\n",
       "  </tbody>\n",
       "</table>\n",
       "</div>"
      ],
      "text/plain": [
       "  Country/Region         day  Confirmed  Deaths  Recovered\n",
       "0    South Korea  2020-01-22        1.0     0.0        0.0\n",
       "1    South Korea  2020-01-23        1.0     0.0        0.0\n",
       "2    South Korea  2020-01-24        2.0     0.0        0.0\n",
       "3    South Korea  2020-01-25        2.0     0.0        0.0\n",
       "4    South Korea  2020-01-26        3.0     0.0        0.0"
      ]
     },
     "execution_count": 7,
     "metadata": {},
     "output_type": "execute_result"
    }
   ],
   "source": [
    "get_country(epidemic_df, 'South Korea').head()"
   ]
  },
  {
   "cell_type": "code",
   "execution_count": 8,
   "metadata": {},
   "outputs": [],
   "source": [
    "korea_df=epidemic_df.get_country('South Korea')"
   ]
  },
  {
   "cell_type": "code",
   "execution_count": 9,
   "metadata": {},
   "outputs": [
    {
     "data": {
      "text/html": [
       "<div>\n",
       "<style scoped>\n",
       "    .dataframe tbody tr th:only-of-type {\n",
       "        vertical-align: middle;\n",
       "    }\n",
       "\n",
       "    .dataframe tbody tr th {\n",
       "        vertical-align: top;\n",
       "    }\n",
       "\n",
       "    .dataframe thead th {\n",
       "        text-align: right;\n",
       "    }\n",
       "</style>\n",
       "<table border=\"1\" class=\"dataframe\">\n",
       "  <thead>\n",
       "    <tr style=\"text-align: right;\">\n",
       "      <th></th>\n",
       "      <th>Country/Region</th>\n",
       "      <th>day</th>\n",
       "      <th>Confirmed</th>\n",
       "      <th>Deaths</th>\n",
       "      <th>Recovered</th>\n",
       "    </tr>\n",
       "  </thead>\n",
       "  <tbody>\n",
       "    <tr>\n",
       "      <th>0</th>\n",
       "      <td>Italy</td>\n",
       "      <td>2020-01-31</td>\n",
       "      <td>2.0</td>\n",
       "      <td>0.0</td>\n",
       "      <td>0.0</td>\n",
       "    </tr>\n",
       "    <tr>\n",
       "      <th>1</th>\n",
       "      <td>Italy</td>\n",
       "      <td>2020-02-07</td>\n",
       "      <td>3.0</td>\n",
       "      <td>0.0</td>\n",
       "      <td>0.0</td>\n",
       "    </tr>\n",
       "    <tr>\n",
       "      <th>2</th>\n",
       "      <td>Italy</td>\n",
       "      <td>2020-02-21</td>\n",
       "      <td>20.0</td>\n",
       "      <td>1.0</td>\n",
       "      <td>0.0</td>\n",
       "    </tr>\n",
       "    <tr>\n",
       "      <th>3</th>\n",
       "      <td>Italy</td>\n",
       "      <td>2020-02-22</td>\n",
       "      <td>62.0</td>\n",
       "      <td>2.0</td>\n",
       "      <td>1.0</td>\n",
       "    </tr>\n",
       "    <tr>\n",
       "      <th>4</th>\n",
       "      <td>Italy</td>\n",
       "      <td>2020-02-23</td>\n",
       "      <td>155.0</td>\n",
       "      <td>3.0</td>\n",
       "      <td>2.0</td>\n",
       "    </tr>\n",
       "  </tbody>\n",
       "</table>\n",
       "</div>"
      ],
      "text/plain": [
       "  Country/Region         day  Confirmed  Deaths  Recovered\n",
       "0          Italy  2020-01-31        2.0     0.0        0.0\n",
       "1          Italy  2020-02-07        3.0     0.0        0.0\n",
       "2          Italy  2020-02-21       20.0     1.0        0.0\n",
       "3          Italy  2020-02-22       62.0     2.0        1.0\n",
       "4          Italy  2020-02-23      155.0     3.0        2.0"
      ]
     },
     "execution_count": 9,
     "metadata": {},
     "output_type": "execute_result"
    }
   ],
   "source": [
    "italy_df=epidemic_df.get_country('Italy')\n",
    "italy_df.head()"
   ]
  },
  {
   "cell_type": "code",
   "execution_count": 12,
   "metadata": {},
   "outputs": [],
   "source": [
    "korea_df['infected'] = korea_df['Confirmed'].diff()\n",
    "italy_df['infected'] = italy_df['Confirmed'].diff()"
   ]
  },
  {
   "cell_type": "code",
   "execution_count": 13,
   "metadata": {},
   "outputs": [
    {
     "data": {
      "image/png": "[encoded data removed]",
      "text/plain": [
       "<Figure size 864x360 with 1 Axes>"
      ]
     },
     "metadata": {
      "needs_background": "light"
     },
     "output_type": "display_data"
    }
   ],
   "source": [
    "fig = plt.figure(figsize=(12,5))\n",
    "plt.plot(korea_df.day, korea_df['Confirmed'], label='S.Korea confirmed')\n",
    "plt.plot(korea_df.day, korea_df['infected'], label='S.Korea infected' )\n",
    "plt.plot(italy_df.day, italy_df['Confirmed'], label='Italy confirmed')\n",
    "plt.plot(italy_df.day, italy_df['infected'], label='Italy infected')\n",
    "plt.grid(True)\n",
    "plt.legend()\n",
    "plt.show()"
   ]
  },
  {
   "cell_type": "code",
   "execution_count": 14,
   "metadata": {},
   "outputs": [],
   "source": [
    "beta,gamma = [0.01,0.1]\n",
    "\n",
    "def SIR(t,y):\n",
    "    S = y[0]\n",
    "    I = y[1]\n",
    "    R = y[2]\n",
    "    return([-beta*S*I, beta*S*I-gamma*I, gamma*I])"
   ]
  },
  {
   "cell_type": "code",
   "execution_count": null,
   "metadata": {},
   "outputs": [],
   "source": [
    "korea_df.loc[2:].head()"
   ]
  },
  {
   "cell_type": "code",
   "execution_count": null,
   "metadata": {},
   "outputs": [],
   "source": [
    "from scipy.integrate import solve_ivp\n",
    "beta,gamma = [0.01,0.1]\n",
    "solution_korea = solve_ivp(SIR,[0,40],[51_470_000,1,0],t_eval=np.arange(0,40,1))"
   ]
  },
  {
   "cell_type": "code",
   "execution_count": null,
   "metadata": {},
   "outputs": [],
   "source": [
    "def plot_epidemia(solution, infected):\n",
    "    fig = plt.figure(figsize=(12,5))\n",
    "    plt.plot(solution.t,solution.y[0])\n",
    "    plt.plot(solution.t,solution.y[1])\n",
    "    plt.plot(solution.t,solution.y[2])\n",
    "    plt.plot(infected.reset_index(drop=True).index,infected,\"k*:\")\n",
    "    plt.grid(\"True\")\n",
    "    plt.legend([\"Susceptible\",\"Infected\",\"Removed\",\"Original Data\"])\n",
    "    plt.show()"
   ]
  },
  {
   "cell_type": "code",
   "execution_count": null,
   "metadata": {},
   "outputs": [],
   "source": [
    "plot_epidemia(solution_korea, korea_df.loc[2:]['infected'])"
   ]
  },
  {
   "cell_type": "code",
   "execution_count": null,
   "metadata": {},
   "outputs": [],
   "source": [
    "korea_df['infected'].max()"
   ]
  },
  {
   "cell_type": "code",
   "execution_count": null,
   "metadata": {},
   "outputs": [],
   "source": [
    "korea_df['Recovered'].diff().max()"
   ]
  },
  {
   "cell_type": "code",
   "execution_count": 26,
   "metadata": {},
   "outputs": [
    {
     "data": {
      "text/plain": [
       "0.17870945831971552"
      ]
     },
     "execution_count": 26,
     "metadata": {},
     "output_type": "execute_result"
    }
   ],
   "source": [
    "(korea_df['Recovered'].diff().loc[korea_df['infected'] !=0]/korea_df['infected'].loc[korea_df['infected'] !=0]).mean()"
   ]
  },
  {
   "cell_type": "code",
   "execution_count": null,
   "metadata": {},
   "outputs": [],
   "source": [
    "beta,gamma = [0.00000001,0.15]\n",
    "solution_korea = solve_ivp(SIR,[0,40],[51_470_000,1,0],t_eval=np.arange(0,40,1))"
   ]
  },
  {
   "cell_type": "code",
   "execution_count": null,
   "metadata": {},
   "outputs": [],
   "source": [
    "plot_epidemia(solution_korea, korea_df.loc[2:]['infected'])"
   ]
  },
  {
   "cell_type": "code",
   "execution_count": null,
   "metadata": {},
   "outputs": [],
   "source": [
    "def sumsq_error(parameters):\n",
    "    beta, gamma = parameters\n",
    "    def SIR(t,y):\n",
    "        S=y[0]\n",
    "        I=y[1]\n",
    "        R=y[2]\n",
    "        return([-beta*S*I, beta*S*I-gamma*I, gamma*I])\n",
    "    \n",
    "    solution = solve_ivp(SIR,[0,nb_steps-1],[total_population,1,0],t_eval=np.arange(0,nb_steps,1))\n",
    "        \n",
    "    return(sum((solution.y[1]-infected_population)**2))\n"
   ]
  },
  {
   "cell_type": "code",
   "execution_count": null,
   "metadata": {},
   "outputs": [],
   "source": [
    "total_population = 51_470_000\n",
    "infected_population = korea_df.loc[2:]['infected']\n",
    "nb_steps = len(infected_population)"
   ]
  },
  {
   "cell_type": "code",
   "execution_count": null,
   "metadata": {},
   "outputs": [],
   "source": [
    "%%time\n",
    "from scipy.optimize import minimize\n",
    "\n",
    "msol = minimize(sumsq_error,[0.001,0.1],method='Nelder-Mead')\n",
    "msol.x"
   ]
  },
  {
   "cell_type": "code",
   "execution_count": null,
   "metadata": {},
   "outputs": [],
   "source": [
    "beta_optimal = 5.67e-3\n",
    "gamma_optimal = 24.7"
   ]
  },
  {
   "cell_type": "code",
   "execution_count": null,
   "metadata": {},
   "outputs": [],
   "source": [
    "beta = beta_optimal\n",
    "gamma = gamma_optimal \n",
    "solution_korea_optimal = solve_ivp(SIR, [0,40], [51_470_000, 1 ,0], t_eval=np.arange(0,40,1))"
   ]
  },
  {
   "cell_type": "code",
   "execution_count": null,
   "metadata": {},
   "outputs": [],
   "source": [
    "plot_epidemia(solution_korea_optimal, korea_df.loc[2:]['infected'])"
   ]
  },
  {
   "cell_type": "code",
   "execution_count": null,
   "metadata": {
    "scrolled": true
   },
   "outputs": [],
   "source": [
    "fig = plt.figure(figsize=(12,5))\n",
    "plt.plot(solution_korea_optimal.t,solution_korea_optimal.y[1])\n",
    "plt.plot(korea_df.loc[2:]['infected'].reset_index(drop=True).index,korea_df.loc[2:]['infected'],\"k*:\")\n",
    "plt.grid(\"True\")\n",
    "plt.legend([\"Infected\",\"Original Data\"])\n",
    "plt.show()"
   ]
  },
  {
   "cell_type": "code",
   "execution_count": null,
   "metadata": {},
   "outputs": [],
   "source": [
    "beta_optimal = 0.06321101\n",
    "gamma_optimal = 33.06340503"
   ]
  },
  {
   "cell_type": "code",
   "execution_count": null,
   "metadata": {},
   "outputs": [],
   "source": [
    "beta = beta_optimal\n",
    "gamma = gamma_optimal \n",
    "solution_korea_optimal = solve_ivp(SIR, [0,40], [51_470_000, 1 ,0], t_eval=np.arange(0,40,1))"
   ]
  },
  {
   "cell_type": "code",
   "execution_count": null,
   "metadata": {},
   "outputs": [],
   "source": [
    "plot_epidemia(solution_korea_optimal, korea_df.loc[2:]['infected'])"
   ]
  },
  {
   "cell_type": "code",
   "execution_count": null,
   "metadata": {},
   "outputs": [],
   "source": [
    "china_df= epidemie_df.get_country('Mainland China')[:49]"
   ]
  },
  {
   "cell_type": "code",
   "execution_count": null,
   "metadata": {},
   "outputs": [],
   "source": [
    "china_df.set_index('day').plot.line(figsize=(12,5))"
   ]
  },
  {
   "cell_type": "code",
   "execution_count": null,
   "metadata": {},
   "outputs": [],
   "source": [
    "beta, gamma = [0.001, 0.1]\n",
    "china_df['infected'] = china_df['Confirmed'].diff()\n",
    "nb_steps = china_df.shape[0]\n",
    "solution_china = solve_ivp(SIR, [0,40], [1_350_470_000, 1 ,0], t_eval=np.arange(0,41,1))"
   ]
  },
  {
   "cell_type": "code",
   "execution_count": null,
   "metadata": {},
   "outputs": [],
   "source": [
    "fig = plt.figure(figsize=(12,5))\n",
    "plt.plot(solution_china.t,solution_china.y[1])\n",
    "plt.plot(china_df.loc[2:]['infected'].reset_index(drop=True).index,china_df.loc[2:]['infected'],\"k*:\")\n",
    "plt.title('China')\n",
    "plt.grid(\"True\")\n",
    "plt.legend([\"Infected\",\"Original Data\"])\n",
    "plt.show()"
   ]
  },
  {
   "cell_type": "code",
   "execution_count": null,
   "metadata": {},
   "outputs": [],
   "source": [
    "day= epidemic_df['day'].unique()\n",
    "map_df = (epidemic_df[epidemic_df['day']]\n",
    "          .groupby(['Country/Region'])\n",
    "          .agg({'Confirmed':'sum', 'Latitude': 'mean', 'Longitude': 'mean'})\n",
    "          .reset_index()\n",
    "         )"
   ]
  }
 ],
 "metadata": {
  "kernelspec": {
   "display_name": "Projet Corona (Python)",
   "language": "python",
   "name": "corona"
  },
  "language_info": {
   "codemirror_mode": {
    "name": "ipython",
    "version": 3
   },
   "file_extension": ".py",
   "mimetype": "text/x-python",
   "name": "python",
   "nbconvert_exporter": "python",
   "pygments_lexer": "ipython3",
   "version": "3.8.2"
  }
 },
 "nbformat": 4,
 "nbformat_minor": 2
}
